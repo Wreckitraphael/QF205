{
 "cells": [
  {
   "cell_type": "code",
   "execution_count": 19,
   "metadata": {},
   "outputs": [
    {
     "name": "stdout",
     "output_type": "stream",
     "text": [
      "{'singtel': -0.006187262028383489, 'dbs': -0.005626641793023357}\n"
     ]
    }
   ],
   "source": [
    "import csv\n",
    "with open('Z74.SI.csv') as singtel,open('D05.SI.csv') as dbs:\n",
    "    portfolio={\n",
    "        'singtel':list(csv.DictReader(singtel)),\n",
    "        'dbs':list(csv.DictReader(dbs))\n",
    "    }\n",
    "\n",
    "    price={}\n",
    "    for k,v in portfolio.items():\n",
    "        price[k]=[]\n",
    "        for i in range(len(v)):\n",
    "            if v[i]['Adj Close'] == 'null':\n",
    "                price[k].append(0)\n",
    "            else:\n",
    "                price[k].append(float(v[i]['Adj Close']))\n",
    "    \n",
    "    dailyreturn={}\n",
    "    for k,v in price.items():\n",
    "        dailyreturn[k]=[]\n",
    "        for i in range(len(v)-1):\n",
    "            if v[i] != 0:\n",
    "                dailyreturn[k].append(v[i+1]/v[i] -1)\n",
    "    \n",
    "    meanreturn={}\n",
    "    for k,v in dailyreturn.items():\n",
    "        meanreturn[k]=0\n",
    "        for i in range(len(v)):\n",
    "            meanreturn[k] += v[i]\n",
    "        meanreturn[k]=meanreturn[k]/len(v)\n",
    "        \n",
    "print(meanreturn)\n",
    "                    "
   ]
  },
  {
   "cell_type": "code",
   "execution_count": null,
   "metadata": {},
   "outputs": [],
   "source": []
  },
  {
   "cell_type": "code",
   "execution_count": null,
   "metadata": {},
   "outputs": [],
   "source": []
  }
 ],
 "metadata": {
  "kernelspec": {
   "display_name": "Python 3",
   "language": "python",
   "name": "python3"
  },
  "language_info": {
   "codemirror_mode": {
    "name": "ipython",
    "version": 3
   },
   "file_extension": ".py",
   "mimetype": "text/x-python",
   "name": "python",
   "nbconvert_exporter": "python",
   "pygments_lexer": "ipython3",
   "version": "3.6.4"
  }
 },
 "nbformat": 4,
 "nbformat_minor": 2
}
